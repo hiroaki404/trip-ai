{
 "cells": [
  {
   "cell_type": "code",
   "metadata": {
    "collapsed": true,
    "ExecuteTime": {
     "end_time": "2025-10-04T01:42:41.024633Z",
     "start_time": "2025-10-04T01:42:38.900939Z"
    }
   },
   "source": [
    "%useLatestDescriptors\n",
    "%use koog"
   ],
   "outputs": [],
   "execution_count": 1
  },
  {
   "metadata": {
    "ExecuteTime": {
     "end_time": "2025-10-04T01:42:45.039598Z",
     "start_time": "2025-10-04T01:42:43.818984Z"
    }
   },
   "cell_type": "code",
   "source": [
    "import kotlinx.coroutines.runBlocking\n",
    "\n",
    "val apiKey = System.getenv(\"OPENAI_API_KEY\")\n",
    "val executor = simpleOpenAIExecutor(apiKey)\n",
    "\n",
    "runBlocking {\n",
    "    val res = executor.execute(\n",
    "        prompt = prompt(\"prompt\") {\n",
    "            user(\"hello\")\n",
    "        },\n",
    "        model = OpenAIModels.Reasoning.GPT4oMini,\n",
    "        tools = emptyList()\n",
    "    )\n",
    "    res.last().content\n",
    "}\n"
   ],
   "outputs": [
    {
     "data": {
      "text/plain": [
       "Hello! How can I assist you today?"
      ]
     },
     "execution_count": 2,
     "metadata": {},
     "output_type": "execute_result"
    }
   ],
   "execution_count": 2
  },
  {
   "metadata": {
    "ExecuteTime": {
     "end_time": "2025-10-04T01:42:51.098407Z",
     "start_time": "2025-10-04T01:42:47.506321Z"
    }
   },
   "cell_type": "code",
   "source": [
    "import ai.koog.agents.features.opentelemetry.feature.OpenTelemetry\n",
    "\n",
    "val toolRegistry = ToolRegistry {\n",
    "    tool(AskUser)\n",
    "}\n",
    "\n",
    "runBlocking {\n",
    "    val agent = AIAgent(\n",
    "        executor = executor,\n",
    "        llmModel = OpenAIModels.Reasoning.GPT4oMini,\n",
    "        systemPrompt = \"\"\"\n",
    "        あなたは旅行プランナーです。ユーザーの指示に従って、旅行計画を立ててください。\n",
    "        ただしユーザーの指示が少ないときは__ask_user__ツールを使って、1度はユーザーに情報提供を促してください。\n",
    "        最小限の情報があればそれでよいです。観光スポットなども含めて、あなたが考えて提案してください。\n",
    "        ユーザーに行きたい場所を尋ねず、あなたが提案してください。\n",
    "        最小限の情報とは、旅行先、予算のことです。\n",
    "        あまり細かく聞きすぎず、ある程度分かったところで計画を立ててください\n",
    "        \"\"\".trimIndent(),\n",
    "        toolRegistry = toolRegistry,\n",
    "    )\n",
    "\n",
    "    agent.run(\"2泊3日の札幌旅行の計画を立ててください\")\n",
    "}"
   ],
   "outputs": [
    {
     "name": "stdout",
     "output_type": "stream",
     "text": [
      "札幌旅行の予算はいくらですか？また、どの時期に行く予定ですか？\n"
     ]
    },
    {
     "ename": "org.jetbrains.kotlinx.jupyter.exceptions.ReplInterruptedException",
     "evalue": "The execution was interrupted",
     "output_type": "error",
     "traceback": [
      "The execution was interrupted"
     ]
    }
   ],
   "execution_count": 3
  },
  {
   "metadata": {},
   "cell_type": "markdown",
   "source": ""
  }
 ],
 "metadata": {
  "kernelspec": {
   "display_name": "Kotlin",
   "language": "kotlin",
   "name": "kotlin"
  },
  "language_info": {
   "name": "kotlin",
   "version": "2.2.20-Beta2",
   "mimetype": "text/x-kotlin",
   "file_extension": ".kt",
   "pygments_lexer": "kotlin",
   "codemirror_mode": "text/x-kotlin",
   "nbconvert_exporter": ""
  }
 },
 "nbformat": 4,
 "nbformat_minor": 0
}
