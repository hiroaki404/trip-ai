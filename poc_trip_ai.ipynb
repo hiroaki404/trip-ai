{
 "cells": [
  {
   "cell_type": "code",
   "metadata": {
    "collapsed": true,
    "ExecuteTime": {
     "end_time": "2025-10-13T09:44:22.420753Z",
     "start_time": "2025-10-13T09:44:20.117033Z"
    }
   },
   "source": [
    "%useLatestDescriptors\n",
    "%use koog(v = 0.5.0)"
   ],
   "outputs": [],
   "execution_count": 1
  },
  {
   "metadata": {
    "ExecuteTime": {
     "end_time": "2025-10-13T09:44:26.294089Z",
     "start_time": "2025-10-13T09:44:22.427387Z"
    }
   },
   "cell_type": "code",
   "source": [
    "import kotlinx.coroutines.runBlocking\n",
    "\n",
    "val apiKey = System.getenv(\"OPENAI_API_KEY\")\n",
    "val executor = simpleOpenAIExecutor(apiKey)\n",
    "\n",
    "runBlocking {\n",
    "    val res = executor.execute(\n",
    "        prompt = prompt(\"prompt\") {\n",
    "            user(\"hello\")\n",
    "        },\n",
    "        model = OpenAIModels.Chat.GPT5Mini\n",
    "    )\n",
    "    res.last().content\n",
    "}\n"
   ],
   "outputs": [
    {
     "data": {
      "text/plain": [
       "Hi — how can I help you today? (I can answer questions, write or edit text, help with code, summarize or translate, brainstorm, and more.)"
      ]
     },
     "execution_count": 2,
     "metadata": {},
     "output_type": "execute_result"
    }
   ],
   "execution_count": 2
  },
  {
   "metadata": {
    "ExecuteTime": {
     "end_time": "2025-10-13T09:45:42.021060Z",
     "start_time": "2025-10-13T09:44:26.317963Z"
    }
   },
   "cell_type": "code",
   "source": [
    "import ai.koog.agents.features.eventHandler.feature.handleEvents\n",
    "import ai.koog.agents.features.opentelemetry.feature.OpenTelemetry\n",
    "import ai.koog.agents.features.opentelemetry.integration.langfuse.addLangfuseExporter\n",
    "import org.intellij.lang.annotations.Language\n",
    "\n",
    "val toolRegistry = ToolRegistry {\n",
    "    tool(AskUser)\n",
    "}\n",
    "\n",
    "runBlocking {\n",
    "    val agent = AIAgent(\n",
    "        promptExecutor = executor,\n",
    "        llmModel = OpenAIModels.Chat.GPT5Mini,\n",
    "        systemPrompt = \"\"\"\n",
    "        あなたは旅行プランナーです。ユーザーの指示に従って、旅行計画を立ててください。\n",
    "        ただしユーザーの指示が少ないときは__ask_user__ツールを使って、1度はユーザーに情報提供を促してください。\n",
    "        最小限の情報があればそれでよいです。観光スポットなども含めて、あなたが考えて提案してください。\n",
    "        ユーザーに行きたい場所を尋ねず、あなたが提案してください。\n",
    "        最小限の情報とは、旅行先、予算のことです。\n",
    "        あまり細かく聞きすぎず、ある程度分かったところで計画を立ててください\n",
    "        \"\"\".trimIndent(),\n",
    "        toolRegistry = toolRegistry,\n",
    "    ) {\n",
    "        install(OpenTelemetry) {\n",
    "            setVerbose(true)\n",
    "            addLangfuseExporter()\n",
    "        }\n",
    "        handleEvents {\n",
    "            onToolCallCompleted {\n",
    "                when (it.tool) {\n",
    "                    is AskUser -> {\n",
    "                        println(\"---\")\n",
    "                        println(\"user message: ${it.result}\")\n",
    "                    }\n",
    "\n",
    "                    else -> {}\n",
    "                }\n",
    "            }\n",
    "        }\n",
    "    }\n",
    "\n",
    "    val res = agent.run(\"2泊3日の札幌旅行の計画を立ててください\")\n",
    "    println(\"---\")\n",
    "    println(\"Assistant response:\")\n",
    "    println(res)\n",
    "}"
   ],
   "outputs": [
    {
     "name": "stdout",
     "output_type": "stream",
     "text": [
      "ご予算を教えてください（お一人当たりの目安で、通貨は日本円でお願いします）。例：3万円、5万円、10万円など。\n",
      "---\n",
      "user message: 10月上旬、予算一人5万。二人で行きます。シマエナガをみたいです。\n",
      "---\n",
      "Assistant response:\n",
      "ありがとうございます。いただいた情報（10月上旬、2名、予算お一人5万円、シマエナガを見たい）で、2泊3日の札幌出発（札幌市内滞在中心）プランを作成します。1点確認させてください：お一人5万円のご予算は「ご自宅→札幌の往復（飛行機・新幹線等）を含む総額」ですか、それとも「札幌到着後の現地滞在費（宿泊・食事・現地移動・ツアー等）のみ」ですか？（どちらでも対応しますので教えてください）\n",
      "\n",
      "以下は、確認前提として「到着は新千歳空港、予算は札幌滞在中を中心に使う／往復交通は別途扱い」と想定した標準プランです。航空券を含めたい場合は回答で教えてください（調整します）。\n",
      "\n",
      "2泊3日サンプルプラン（シマエナガ観察を中心）\n",
      "\n",
      "Day1：到着日（札幌市内観光）\n",
      "- 午前〜午後：新千歳空港到着 → JR快速エアポートで札幌へ（所要約37分）\n",
      "- チェックインは札幌中心部（大通・すすきの）で便利なホテルを推奨（例：札幌グランドホテル、メルキュール、京王プレリアなど：中級〜やや上の快適クラス）\n",
      "- 夕方：大通公園、さっぽろテレビ塔、狸小路・すすきので夕食（札幌味噌ラーメン、海鮮、スープカレー等）\n",
      "- 所要時間：自由。疲れがあれば早めに休息。\n",
      "\n",
      "Day2：シマエナガ観察の日（早朝発→夕方帰着）\n",
      "- 早朝発（5:00〜6:00出発が理想）\n",
      "- オプションA（推奨：日帰りで本気で探す）：\n",
      "  - JR＋車/ガイドで旭川〜大雪山（大雪山麓、裾合平などの白樺・ダケカンバ林）へ。シマエナガは山地の樹林帯で見られることが多く、早朝がチャンス。\n",
      "  - 専門のバードウォッチングガイド（半日〜終日）を事前予約すると成功率が高まります（地元ガイドが生息域・ポイントを熟知）。\n",
      "  - 午後に旭川で軽く観光（旭川ラーメン等）して札幌へ戻る。\n",
      "- オプションB（移動少なめ・楽に）：\n",
      "  - 札幌近郊（円山公園・手稲・定山渓周辺の林や郊外フィールド）で早朝バードウォッチング。地元のバードツアー参加を推奨。\n",
      "- 夕方：札幌で温泉や地元グルメ（海鮮、炉端、ジンギスカンなど）\n",
      "\n",
      "Day3：札幌市内＆出発\n",
      "- 午前：札幌市内（北海道神宮、北海道庁旧本庁舎、札幌市中央卸売市場場外市場など）を散策\n",
      "- 昼：市場で海鮮丼など\n",
      "- 午後：空港へ移動、帰路へ\n",
      "\n",
      "予算目安（お一人／目安、税込）\n",
      "- 宿泊（中級ホテル・ツイン2泊）：約8,000〜15,000円\n",
      "- 食事（2.5日分）：約6,000〜10,000円\n",
      "- 現地交通（JR・市内交通＋旭川日帰りのJR/レンタカー分按分）：約4,000〜10,000円\n",
      "- バードウォッチングガイド（半日〜終日）：約6,000〜15,000円\n",
      "- 余裕費（入場料・お土産等）：約2,000〜5,000円\n",
      "合計（札幌滞在分想定）：約26,000〜55,000円／人\n",
      "※上限を抑える場合は市内中心での観察（オプションB）＋格安宿にすると3万円台に収めやすいです。往復航空券を含めると、国内主要都市からだと格安で往復10,000〜30,000円前後が変動要素になります。\n",
      "\n",
      "おすすめポイント・注意点\n",
      "- シマエナガは小さく動きが速い野鳥です。専門ガイドか、地元のバードウォッチングツアーに参加するのが最も効率的です。\n",
      "- 10月上旬は朝晩冷えます（概ね5〜15℃）。防寒（薄手ダウンやウィンドブレーカー）、防水のハイキング靴、双眼鏡、望遠レンズ付きカメラを推奨。\n",
      "- 車での移動は自由度が高く有利（特に大雪山方面）。公共交通派は早朝のアクセスとガイド手配を事前に確認してください。\n",
      "- 観察は早朝が圧倒的に当たりやすいので、2日目は早起き前提で計画を立てます。\n",
      "\n",
      "次のアクション（どちらか教えてください）\n",
      "1) 予算に「往復交通（出発地→札幌）を含める」か「含めない」かを教えてください。含める場合は出発地（例：東京、大阪など）を簡単に教えてください。  \n",
      "2) オプションA（旭川・大雪山方面へ日帰り本気観察／要移動・ガイド推奨）とオプションB（札幌近郊でゆったり観察・移動少なめ）どちらが好みか教えてください。  \n",
      "3) レンタカー希望か公共交通希望かを教えてください。\n",
      "\n",
      "これらに答えていただければ、日程を確定して詳細な時刻案、具体的な宿泊候補（料金目安）、推奨ガイド連絡先や予約の仕方まで詰めたプランを作成します。どちらでもOKなら、そのままオプションAを基本に詳細プランを作ります。\n"
     ]
    }
   ],
   "execution_count": 3
  },
  {
   "metadata": {},
   "cell_type": "markdown",
   "source": ""
  }
 ],
 "metadata": {
  "kernelspec": {
   "display_name": "Kotlin",
   "language": "kotlin",
   "name": "kotlin"
  },
  "language_info": {
   "name": "kotlin",
   "version": "2.2.20-Beta2",
   "mimetype": "text/x-kotlin",
   "file_extension": ".kt",
   "pygments_lexer": "kotlin",
   "codemirror_mode": "text/x-kotlin",
   "nbconvert_exporter": ""
  }
 },
 "nbformat": 4,
 "nbformat_minor": 0
}
