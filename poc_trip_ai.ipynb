{
 "cells": [
  {
   "cell_type": "code",
   "metadata": {
    "collapsed": true,
    "ExecuteTime": {
     "end_time": "2025-10-14T10:32:41.697992Z",
     "start_time": "2025-10-14T10:32:33.826926Z"
    }
   },
   "source": [
    "%useLatestDescriptors\n",
    "%use koog(v = 0.5.0)"
   ],
   "outputs": [],
   "execution_count": 4
  },
  {
   "metadata": {
    "ExecuteTime": {
     "end_time": "2025-10-13T09:44:26.294089Z",
     "start_time": "2025-10-13T09:44:22.427387Z"
    }
   },
   "cell_type": "code",
   "source": [
    "import kotlinx.coroutines.runBlocking\n",
    "\n",
    "val apiKey = System.getenv(\"OPENAI_API_KEY\")\n",
    "val executor = simpleOpenAIExecutor(apiKey)\n",
    "\n",
    "runBlocking {\n",
    "    val res = executor.execute(\n",
    "        prompt = prompt(\"prompt\") {\n",
    "            user(\"hello\")\n",
    "        },\n",
    "        model = OpenAIModels.Chat.GPT5Mini\n",
    "    )\n",
    "    res.last().content\n",
    "}\n"
   ],
   "outputs": [
    {
     "data": {
      "text/plain": [
       "Hi — how can I help you today? (I can answer questions, write or edit text, help with code, summarize or translate, brainstorm, and more.)"
      ]
     },
     "execution_count": 2,
     "metadata": {},
     "output_type": "execute_result"
    }
   ],
   "execution_count": 2
  },
  {
   "metadata": {
    "ExecuteTime": {
     "end_time": "2025-10-13T09:45:42.021060Z",
     "start_time": "2025-10-13T09:44:26.317963Z"
    }
   },
   "cell_type": "code",
   "source": [
    "import ai.koog.agents.features.eventHandler.feature.handleEvents\n",
    "import ai.koog.agents.features.opentelemetry.feature.OpenTelemetry\n",
    "import ai.koog.agents.features.opentelemetry.integration.langfuse.addLangfuseExporter\n",
    "import org.intellij.lang.annotations.Language\n",
    "\n",
    "val toolRegistry = ToolRegistry {\n",
    "    tool(AskUser)\n",
    "}\n",
    "\n",
    "runBlocking {\n",
    "    val agent = AIAgent(\n",
    "        promptExecutor = executor,\n",
    "        llmModel = OpenAIModels.Chat.GPT5Mini,\n",
    "        systemPrompt = \"\"\"\n",
    "        あなたは旅行プランナーです。ユーザーの指示に従って、旅行計画を立ててください。\n",
    "        ただしユーザーの指示が少ないときは__ask_user__ツールを使って、1度はユーザーに情報提供を促してください。\n",
    "        最小限の情報があればそれでよいです。観光スポットなども含めて、あなたが考えて提案してください。\n",
    "        ユーザーに行きたい場所を尋ねず、あなたが提案してください。\n",
    "        最小限の情報とは、旅行先、予算のことです。\n",
    "        あまり細かく聞きすぎず、ある程度分かったところで計画を立ててください\n",
    "        \"\"\".trimIndent(),\n",
    "        toolRegistry = toolRegistry,\n",
    "    ) {\n",
    "        install(OpenTelemetry) {\n",
    "            setVerbose(true)\n",
    "            addLangfuseExporter()\n",
    "        }\n",
    "        handleEvents {\n",
    "            onToolCallCompleted {\n",
    "                when (it.tool) {\n",
    "                    is AskUser -> {\n",
    "                        println(\"---\")\n",
    "                        println(\"user message: ${it.result}\")\n",
    "                    }\n",
    "\n",
    "                    else -> {}\n",
    "                }\n",
    "            }\n",
    "        }\n",
    "    }\n",
    "\n",
    "    val res = agent.run(\"2泊3日の札幌旅行の計画を立ててください\")\n",
    "    println(\"---\")\n",
    "    println(\"Assistant response:\")\n",
    "    println(res)\n",
    "}"
   ],
   "outputs": [
    {
     "name": "stdout",
     "output_type": "stream",
     "text": [
      "ご予算を教えてください（お一人当たりの目安で、通貨は日本円でお願いします）。例：3万円、5万円、10万円など。\n",
      "---\n",
      "user message: 10月上旬、予算一人5万。二人で行きます。シマエナガをみたいです。\n",
      "---\n",
      "Assistant response:\n",
      "ありがとうございます。いただいた情報（10月上旬、2名、予算お一人5万円、シマエナガを見たい）で、2泊3日の札幌出発（札幌市内滞在中心）プランを作成します。1点確認させてください：お一人5万円のご予算は「ご自宅→札幌の往復（飛行機・新幹線等）を含む総額」ですか、それとも「札幌到着後の現地滞在費（宿泊・食事・現地移動・ツアー等）のみ」ですか？（どちらでも対応しますので教えてください）\n",
      "\n",
      "以下は、確認前提として「到着は新千歳空港、予算は札幌滞在中を中心に使う／往復交通は別途扱い」と想定した標準プランです。航空券を含めたい場合は回答で教えてください（調整します）。\n",
      "\n",
      "2泊3日サンプルプラン（シマエナガ観察を中心）\n",
      "\n",
      "Day1：到着日（札幌市内観光）\n",
      "- 午前〜午後：新千歳空港到着 → JR快速エアポートで札幌へ（所要約37分）\n",
      "- チェックインは札幌中心部（大通・すすきの）で便利なホテルを推奨（例：札幌グランドホテル、メルキュール、京王プレリアなど：中級〜やや上の快適クラス）\n",
      "- 夕方：大通公園、さっぽろテレビ塔、狸小路・すすきので夕食（札幌味噌ラーメン、海鮮、スープカレー等）\n",
      "- 所要時間：自由。疲れがあれば早めに休息。\n",
      "\n",
      "Day2：シマエナガ観察の日（早朝発→夕方帰着）\n",
      "- 早朝発（5:00〜6:00出発が理想）\n",
      "- オプションA（推奨：日帰りで本気で探す）：\n",
      "  - JR＋車/ガイドで旭川〜大雪山（大雪山麓、裾合平などの白樺・ダケカンバ林）へ。シマエナガは山地の樹林帯で見られることが多く、早朝がチャンス。\n",
      "  - 専門のバードウォッチングガイド（半日〜終日）を事前予約すると成功率が高まります（地元ガイドが生息域・ポイントを熟知）。\n",
      "  - 午後に旭川で軽く観光（旭川ラーメン等）して札幌へ戻る。\n",
      "- オプションB（移動少なめ・楽に）：\n",
      "  - 札幌近郊（円山公園・手稲・定山渓周辺の林や郊外フィールド）で早朝バードウォッチング。地元のバードツアー参加を推奨。\n",
      "- 夕方：札幌で温泉や地元グルメ（海鮮、炉端、ジンギスカンなど）\n",
      "\n",
      "Day3：札幌市内＆出発\n",
      "- 午前：札幌市内（北海道神宮、北海道庁旧本庁舎、札幌市中央卸売市場場外市場など）を散策\n",
      "- 昼：市場で海鮮丼など\n",
      "- 午後：空港へ移動、帰路へ\n",
      "\n",
      "予算目安（お一人／目安、税込）\n",
      "- 宿泊（中級ホテル・ツイン2泊）：約8,000〜15,000円\n",
      "- 食事（2.5日分）：約6,000〜10,000円\n",
      "- 現地交通（JR・市内交通＋旭川日帰りのJR/レンタカー分按分）：約4,000〜10,000円\n",
      "- バードウォッチングガイド（半日〜終日）：約6,000〜15,000円\n",
      "- 余裕費（入場料・お土産等）：約2,000〜5,000円\n",
      "合計（札幌滞在分想定）：約26,000〜55,000円／人\n",
      "※上限を抑える場合は市内中心での観察（オプションB）＋格安宿にすると3万円台に収めやすいです。往復航空券を含めると、国内主要都市からだと格安で往復10,000〜30,000円前後が変動要素になります。\n",
      "\n",
      "おすすめポイント・注意点\n",
      "- シマエナガは小さく動きが速い野鳥です。専門ガイドか、地元のバードウォッチングツアーに参加するのが最も効率的です。\n",
      "- 10月上旬は朝晩冷えます（概ね5〜15℃）。防寒（薄手ダウンやウィンドブレーカー）、防水のハイキング靴、双眼鏡、望遠レンズ付きカメラを推奨。\n",
      "- 車での移動は自由度が高く有利（特に大雪山方面）。公共交通派は早朝のアクセスとガイド手配を事前に確認してください。\n",
      "- 観察は早朝が圧倒的に当たりやすいので、2日目は早起き前提で計画を立てます。\n",
      "\n",
      "次のアクション（どちらか教えてください）\n",
      "1) 予算に「往復交通（出発地→札幌）を含める」か「含めない」かを教えてください。含める場合は出発地（例：東京、大阪など）を簡単に教えてください。  \n",
      "2) オプションA（旭川・大雪山方面へ日帰り本気観察／要移動・ガイド推奨）とオプションB（札幌近郊でゆったり観察・移動少なめ）どちらが好みか教えてください。  \n",
      "3) レンタカー希望か公共交通希望かを教えてください。\n",
      "\n",
      "これらに答えていただければ、日程を確定して詳細な時刻案、具体的な宿泊候補（料金目安）、推奨ガイド連絡先や予約の仕方まで詰めたプランを作成します。どちらでもOKなら、そのままオプションAを基本に詳細プランを作ります。\n"
     ]
    }
   ],
   "execution_count": 3
  },
  {
   "metadata": {
    "ExecuteTime": {
     "end_time": "2025-10-14T10:38:32.048016Z",
     "start_time": "2025-10-14T10:38:30.603649Z"
    }
   },
   "cell_type": "code",
   "source": [
    "USE {\n",
    "    dependencies {\n",
    "        val ktorVersion = \"3.3.1\"\n",
    "        implementation(\"io.ktor:ktor-client-core:$ktorVersion\")\n",
    "        implementation(\"io.ktor:ktor-client-cio:$ktorVersion\")\n",
    "    }\n",
    "}"
   ],
   "outputs": [],
   "execution_count": 12
  },
  {
   "metadata": {
    "ExecuteTime": {
     "end_time": "2025-10-14T10:38:32.235499Z",
     "start_time": "2025-10-14T10:38:32.098891Z"
    }
   },
   "cell_type": "code",
   "source": [
    "import io.ktor.client.HttpClient\n",
    "import io.ktor.client.call.body\n",
    "import io.ktor.client.plugins.contentnegotiation.ContentNegotiation\n",
    "import io.ktor.client.request.get\n",
    "import io.ktor.client.statement.bodyAsText\n",
    "import io.ktor.serialization.kotlinx.json.json\n",
    "import kotlinx.coroutines.runBlocking\n",
    "import kotlinx.serialization.Serializable\n",
    "import kotlinx.serialization.json.Json\n",
    "\n",
    "\n",
    "@kotlinx.serialization.Serializable\n",
    "data class RouteResponse(\n",
    "    val routes: List<Route>,\n",
    "    val code: String,\n",
    "    val uuid: String\n",
    ")\n",
    "\n",
    "@kotlinx.serialization.Serializable\n",
    "data class Route(\n",
    "    val duration: Double,\n",
    "    val distance: Double,\n",
    "    val geometry: Geometry\n",
    ")\n",
    "\n",
    "@Serializable\n",
    "data class Geometry(\n",
    "    val coordinates: List<List<Double>>,\n",
    ")\n"
   ],
   "outputs": [],
   "execution_count": 13
  },
  {
   "cell_type": "code",
   "source": [
    "// Mapbox Directions API用のURL動的構築関数\n",
    "data class Coordinate(\n",
    "    val longitude: Double,\n",
    "    val latitude: Double\n",
    ")\n",
    "\n",
    "data class MapboxDirectionsConfig(\n",
    "    val profile: String = \"driving\", // driving, walking, cycling, driving-traffic\n",
    "    val alternatives: Boolean = true,\n",
    "    val geometries: String = \"geojson\",\n",
    "    val language: String = \"en\",\n",
    "    val overview: String = \"simplified\",\n",
    "    val steps: Boolean = true,\n",
    "    val accessToken: String\n",
    ")\n",
    "\n",
    "fun buildMapboxDirectionsUrl(\n",
    "    coordinates: List<Coordinate>,\n",
    "    config: MapboxDirectionsConfig\n",
    "): String {\n",
    "    require(coordinates.size >= 2) { \"少なくとも2つの座標が必要です\" }\n",
    "\n",
    "    val coordinatesString = coordinates.joinToString(\";\") { \"${it.longitude},${it.latitude}\" }\n",
    "\n",
    "    val queryParams = buildList {\n",
    "        add(\"alternatives=${config.alternatives}\")\n",
    "        add(\"geometries=${config.geometries}\")\n",
    "        add(\"language=${config.language}\")\n",
    "        add(\"overview=${config.overview}\")\n",
    "        add(\"steps=${config.steps}\")\n",
    "        add(\"access_token=${config.accessToken}\")\n",
    "    }.joinToString(\"&\")\n",
    "\n",
    "    return \"https://api.mapbox.com/directions/v5/mapbox/${config.profile}/$coordinatesString?$queryParams\"\n",
    "}"
   ],
   "metadata": {
    "ExecuteTime": {
     "end_time": "2025-10-14T10:40:39.065157Z",
     "start_time": "2025-10-14T10:40:38.942948Z"
    }
   },
   "outputs": [],
   "execution_count": 16
  },
  {
   "metadata": {
    "ExecuteTime": {
     "end_time": "2025-10-14T13:58:29.583116Z",
     "start_time": "2025-10-14T13:58:29.378968Z"
    }
   },
   "cell_type": "code",
   "source": [
    "val client = HttpClient() {\n",
    "    install(ContentNegotiation) {\n",
    "        json(Json {\n",
    "            ignoreUnknownKeys = true\n",
    "        })\n",
    "    }\n",
    "}\n",
    "\n",
    "val mapboxAccessToken = System.getenv(\"MAPBOX_ACCESS_TOKEN\")\n",
    "val testCoordinates = listOf(\n",
    "    Coordinate(-74.027539, 40.801097),\n",
    "    Coordinate(-74.038602, 40.786767)\n",
    ")\n",
    "\n",
    "val config = MapboxDirectionsConfig(accessToken = mapboxAccessToken)\n",
    "\n",
    "val dynamicUrl = buildMapboxDirectionsUrl(testCoordinates, config)\n",
    "\n",
    "runBlocking {\n",
    "    val response =\n",
    "        client.get(\"${dynamicUrl}\")\n",
    "    response.body<RouteResponse>()\n",
    "}\n"
   ],
   "outputs": [
    {
     "data": {
      "text/plain": [
       "RouteResponse(routes=[Route(duration=137.406, distance=1876.488, geometry=Geometry(coordinates=[[-74.027652, 40.801139], [-74.027878, 40.800786], [-74.027523, 40.800646], [-74.036985, 40.786159]]))], code=Ok, uuid=237ix6D_OfSgFhupL1uKJi-N_cG2FhyeMTCDGoUhueF_3AvJrs9ZXQ==)"
      ]
     },
     "execution_count": 19,
     "metadata": {},
     "output_type": "execute_result"
    }
   ],
   "execution_count": 19
  },
  {
   "metadata": {},
   "cell_type": "markdown",
   "source": "## Serialize"
  },
  {
   "metadata": {
    "ExecuteTime": {
     "end_time": "2025-10-21T05:05:24.727490Z",
     "start_time": "2025-10-21T05:05:24.527977Z"
    }
   },
   "cell_type": "code",
   "source": [
    "import kotlinx.serialization.SerialName\n",
    "import kotlinx.serialization.Serializable\n",
    "import kotlinx.serialization.json.Json\n",
    "\n",
    "@Serializable\n",
    "data class TripPlan(\n",
    "    val summary: String,\n",
    "    val step: List<Step>\n",
    ") {\n",
    "    @Serializable\n",
    "    data class Step(\n",
    "        val date: String,\n",
    "        val scheduleEntries: List<ScheduleEntry>,\n",
    "    ) {\n",
    "        @Serializable\n",
    "        sealed interface ScheduleEntry {\n",
    "            val duration: String\n",
    "            val description: String\n",
    "\n",
    "            @Serializable\n",
    "            @SerialName(\"activity\")\n",
    "            data class Activity(\n",
    "                override val duration: String,\n",
    "                override val description: String,\n",
    "                val location: String,\n",
    "                val longitude: Double,\n",
    "                val latitude: Double,\n",
    "            ) : ScheduleEntry\n",
    "\n",
    "            @Serializable\n",
    "            @SerialName(\"transportation\")\n",
    "            data class Transportation(\n",
    "                val transportationType: String,\n",
    "                val from: String,\n",
    "                val to: String,\n",
    "                val lineId: String,\n",
    "                override val duration: String,\n",
    "                override val description: String\n",
    "            ) : ScheduleEntry\n",
    "        }\n",
    "    }\n",
    "}\n",
    "\n",
    "val json = Json { prettyPrint = true }\n",
    "\n",
    "val output = json.decodeFromString<TripPlan>(\n",
    "    \"\"\"\n",
    "{\n",
    "  \"summary\": \"鎌倉を巡る日帰り旅行プランです。夫婦でのんびりと鎌倉の魅力を満喫できるよう、定番スポットを中心に、歴史と自然を感じられるコースをご提案します。予算はお一人様2万円、交通手段は電車を利用します。\",\n",
    "  \"step\": [\n",
    "    {\n",
    "      \"date\": \"2025-10-15 08:00\",\n",
    "      \"scheduleEntries\": [\n",
    "        {\n",
    "          \"type\": \"activity\",\n",
    "          \"duration\": \"08:00-09:00\",\n",
    "          \"description\": \"東京駅から鎌倉駅へ移動します。\",\n",
    "          \"location\": \"東京駅\",\n",
    "          \"longitude\": 139.767125,\n",
    "          \"latitude\": 35.681236\n",
    "        },\n",
    "        {\n",
    "          \"type\": \"transportation\",\n",
    "          \"transportationType\": \"電車\",\n",
    "          \"from\": \"東京駅\",\n",
    "          \"to\": \"鎌倉駅\",\n",
    "          \"lineId\": \"1Ug4SirsY6ykxz71Ox_IeAVWVgOMVINOIMEU1sJiiTVf3G0qMLvPqQ==\",\n",
    "          \"duration\": \"約1時間\",\n",
    "          \"description\": \"JR横須賀線を利用します。座席を確保して、快適な移動をお楽しみください。SuicaやPASMOなどのICカードを利用すると便利です。料金は1000円程度です。\"\n",
    "        },\n",
    "        {\n",
    "          \"type\": \"activity\",\n",
    "          \"duration\": \"09:00-11:00\",\n",
    "          \"description\": \"鎌倉のシンボル、鶴岡八幡宮を参拝します。源頼朝ゆかりの神社で、広大な境内には見どころがたくさんあります。\",\n",
    "          \"location\": \"鶴岡八幡宮\",\n",
    "          \"longitude\": 139.553611,\n",
    "          \"latitude\": 35.329444\n",
    "        },\n",
    "        {\n",
    "          \"type\": \"transportation\",\n",
    "          \"transportationType\": \"徒歩\",\n",
    "          \"from\": \"鎌倉駅\",\n",
    "          \"to\": \"鶴岡八幡宮\",\n",
    "          \"lineId\": \"nvfQWRv7cXAtjTVdqRQteQ3NhHUUSoDDM88bBrrqdNUHdYoZ1GisVA==\",\n",
    "          \"duration\": \"15分\",\n",
    "          \"description\": \"駅から徒歩でアクセスできます。参道を歩きながら、鎌倉の街並みを楽しみましょう。\"\n",
    "        },\n",
    "        {\n",
    "          \"type\": \"activity\",\n",
    "          \"duration\": \"11:30-12:30\",\n",
    "          \"description\": \"鎌倉駅周辺でお昼ご飯。\",\n",
    "          \"location\": \"鎌倉駅周辺の飲食店\",\n",
    "          \"longitude\": 139.553611,\n",
    "          \"latitude\": 35.329444\n",
    "        }\n",
    "      ]\n",
    "    },\n",
    "    {\n",
    "      \"date\": \"2025-10-15 13:00\",\n",
    "      \"scheduleEntries\": [\n",
    "        {\n",
    "          \"type\": \"transportation\",\n",
    "          \"transportationType\": \"徒歩\",\n",
    "          \"from\": \"鎌倉駅\",\n",
    "          \"to\": \"大仏\",\n",
    "          \"lineId\": \"HKYIBHb1cENf0mcUSehMBAmHk_RbGoCiSB0fMEBP6jvZUfTCQlVyig==\",\n",
    "          \"duration\": \"15分\",\n",
    "          \"description\": \"江ノ電に乗って長谷駅へ。そこから徒歩で高徳院へ向かいます。\"\n",
    "        },\n",
    "        {\n",
    "          \"type\": \"activity\",\n",
    "          \"duration\": \"13:00-15:00\",\n",
    "          \"description\": \"鎌倉大仏を見学します。高さ約13メートルの巨大な仏像は圧巻です。胎内に入ることもできます。\",\n",
    "          \"location\": \"鎌倉大仏（高徳院）\",\n",
    "          \"longitude\": 139.547222,\n",
    "          \"latitude\": 35.328333\n",
    "        }\n",
    "      ]\n",
    "    },\n",
    "    {\n",
    "      \"date\": \"2025-10-15 16:00\",\n",
    "      \"scheduleEntries\": [\n",
    "        {\n",
    "          \"type\": \"transportation\",\n",
    "          \"transportationType\": \"電車\",\n",
    "          \"from\": \"鎌倉駅\",\n",
    "          \"to\": \"東京駅\",\n",
    "          \"lineId\": \"5oSsBzf4XrBeU0-ee2HgmzwSNqaKUb7WnYLN2gkrH8xOuKUTuqMFgg==\",\n",
    "          \"duration\": \"約1時間\",\n",
    "          \"description\": \"鎌倉駅からJR横須賀線で東京駅へ戻ります。\"\n",
    "        },\n",
    "        {\n",
    "          \"type\": \"activity\",\n",
    "          \"duration\": \"17:00\",\n",
    "          \"description\": \"東京駅に到着。\",\n",
    "          \"location\": \"東京駅\",\n",
    "          \"longitude\": 139.767125,\n",
    "          \"latitude\": 35.681236\n",
    "        }\n",
    "      ]\n",
    "    }\n",
    "  ]\n",
    "}\n",
    "\"\"\"\n",
    ")\n",
    "output"
   ],
   "outputs": [
    {
     "data": {
      "text/plain": [
       "TripPlan(summary=鎌倉を巡る日帰り旅行プランです。夫婦でのんびりと鎌倉の魅力を満喫できるよう、定番スポットを中心に、歴史と自然を感じられるコースをご提案します。予算はお一人様2万円、交通手段は電車を利用します。, step=[Step(date=2025-10-15 08:00, scheduleEntries=[Activity(duration=08:00-09:00, description=東京駅から鎌倉駅へ移動します。, location=東京駅, longitude=139.767125, latitude=35.681236), Transportation(transportationType=電車, from=東京駅, to=鎌倉駅, lineId=1Ug4SirsY6ykxz71Ox_IeAVWVgOMVINOIMEU1sJiiTVf3G0qMLvPqQ==, duration=約1時間, description=JR横須賀線を利用します。座席を確保して、快適な移動をお楽しみください。SuicaやPASMOなどのICカードを利用すると便利です。料金は1000円程度です。), Activity(duration=09:00-11:00, description=鎌倉のシンボル、鶴岡八幡宮を参拝します。源頼朝ゆかりの神社で、広大な境内には見どころがたくさんあります。, location=鶴岡八幡宮, longitude=139.553611, latitude=35.329444), Transportation(transportationType=徒歩, from=鎌倉駅, to=鶴岡八幡宮, lineId=nvfQWRv7cXAtjTVdqRQteQ3NhHUUSoDDM88bBrrqdNUHdYoZ1GisVA==, duration=15分, description=駅から徒歩でアクセスできます。参道を歩きながら、鎌倉の街並みを楽しみましょう。), Activity(duration=11:30-12:30, description=鎌倉駅周辺でお昼ご飯。, location=鎌倉駅周辺の飲食店, longitude=139.553611, latitude=35.329444)]), Step(date=2025-10-15 13:00, scheduleEntries=[Transportation(transportationType=徒歩, from=鎌倉駅, to=大仏, lineId=HKYIBHb1cENf0mcUSehMBAmHk_RbGoCiSB0fMEBP6jvZUfTCQlVyig==, duration=15分, description=江ノ電に乗って長谷駅へ。そこから徒歩で高徳院へ向かいます。), Activity(duration=13:00-15:00, description=鎌倉大仏を見学します。高さ約13メートルの巨大な仏像は圧巻です。胎内に入ることもできます。, location=鎌倉大仏（高徳院）, longitude=139.547222, latitude=35.328333)]), Step(date=2025-10-15 16:00, scheduleEntries=[Transportation(transportationType=電車, from=鎌倉駅, to=東京駅, lineId=5oSsBzf4XrBeU0-ee2HgmzwSNqaKUb7WnYLN2gkrH8xOuKUTuqMFgg==, duration=約1時間, description=鎌倉駅からJR横須賀線で東京駅へ戻ります。), Activity(duration=17:00, description=東京駅に到着。, location=東京駅, longitude=139.767125, latitude=35.681236)])])"
      ]
     },
     "execution_count": 15,
     "metadata": {},
     "output_type": "execute_result"
    }
   ],
   "execution_count": 15
  }
 ],
 "metadata": {
  "kernelspec": {
   "display_name": "Kotlin",
   "language": "kotlin",
   "name": "kotlin"
  },
  "language_info": {
   "name": "kotlin",
   "version": "2.2.20-Beta2",
   "mimetype": "text/x-kotlin",
   "file_extension": ".kt",
   "pygments_lexer": "kotlin",
   "codemirror_mode": "text/x-kotlin",
   "nbconvert_exporter": ""
  }
 },
 "nbformat": 4,
 "nbformat_minor": 0
}
