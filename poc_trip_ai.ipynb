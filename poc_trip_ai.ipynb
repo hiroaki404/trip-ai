{
 "cells": [
  {
   "cell_type": "code",
   "metadata": {
    "collapsed": true,
    "ExecuteTime": {
     "end_time": "2025-10-03T16:04:05.723499Z",
     "start_time": "2025-10-03T16:04:04.257727Z"
    }
   },
   "source": [
    "%useLatestDescriptors\n",
    "%use koog\n",
    "USE {\n",
    "    dependencies {\n",
    "        implementation(\"ai.koog:agents-features-opentelemetry:0.5.0\")\n",
    "    }\n",
    "}"
   ],
   "outputs": [],
   "execution_count": 2
  },
  {
   "metadata": {
    "ExecuteTime": {
     "end_time": "2025-10-03T16:04:07.101899Z",
     "start_time": "2025-10-03T16:04:05.729880Z"
    }
   },
   "cell_type": "code",
   "source": [
    "import kotlinx.coroutines.runBlocking\n",
    "\n",
    "val apiKey = System.getenv(\"OPENAI_API_KEY\")\n",
    "val executor = simpleOpenAIExecutor(apiKey)\n",
    "\n",
    "runBlocking {\n",
    "    val res = executor.execute(\n",
    "        prompt = prompt(\"prompt\") {\n",
    "            user(\"hello\")\n",
    "        },\n",
    "        model = OpenAIModels.Reasoning.GPT4oMini,\n",
    "        tools = emptyList()\n",
    "    )\n",
    "    res.last().content\n",
    "}\n"
   ],
   "outputs": [
    {
     "data": {
      "text/plain": [
       "Hello! How can I assist you today?"
      ]
     },
     "execution_count": 3,
     "metadata": {},
     "output_type": "execute_result"
    }
   ],
   "execution_count": 3
  },
  {
   "metadata": {
    "ExecuteTime": {
     "end_time": "2025-10-03T16:04:35.330534Z",
     "start_time": "2025-10-03T16:04:07.113327Z"
    }
   },
   "cell_type": "code",
   "source": [
    "import ai.koog.agents.features.opentelemetry.feature.OpenTelemetry\n",
    "\n",
    "val toolRegistry = ToolRegistry {\n",
    "    tool(AskUser)\n",
    "}\n",
    "\n",
    "runBlocking {\n",
    "    val agent = AIAgent(\n",
    "        executor = executor,\n",
    "        llmModel = OpenAIModels.Reasoning.GPT4oMini,\n",
    "        systemPrompt = \"\"\"\n",
    "        あなたは旅行プランナーです。ユーザーの指示に従って、旅行計画を立ててください。\n",
    "        ただしユーザーの指示が少ないときは__ask_user__ツールを使って、1度はユーザーに情報提供を促してください。\n",
    "        最小限の情報があればそれでよいです。観光スポットなども含めて、あなたが考えて提案してください。\n",
    "        ユーザーに行きたい場所を尋ねず、あなたが提案してください。\n",
    "        最小限の情報とは、旅行先、予算のことです。\n",
    "        あまり細かく聞きすぎず、ある程度分かったところで計画を立ててください\n",
    "        \"\"\".trimIndent(),\n",
    "        toolRegistry = toolRegistry,\n",
    "    )\n",
    "\n",
    "    agent.run(\"2泊3日の札幌旅行の計画を立ててください\")\n",
    "}"
   ],
   "outputs": [
    {
     "name": "stdout",
     "output_type": "stream",
     "text": [
      "旅行の予算について教えていただけますか？また、特に訪れたい観光スポットやアクティビティがあれば教えてください。\n"
     ]
    },
    {
     "data": {
      "text/plain": [
       "素晴らしい旅行計画を提案します！以下は、2泊3日の札幌旅行の概要です。\n",
       "\n",
       "### 1日目：札幌到着・観光\n",
       "- **午前**：札幌到着。ホテルにチェックイン。\n",
       "- **午後**：大通公園を散策し、札幌テレビ塔からの景色を楽しむ。\n",
       "- **夕方**：すすきので夕食。おすすめは、ジンギスカンや海鮮料理のお店。\n",
       "- **夜**：大通公園のイルミネーションや夜景を楽しむ。\n",
       "\n",
       "### 2日目：シマエナガ探し・郊外観光\n",
       "- **午前**：定山渓温泉へ移動（約1時間）。ハイキングしながらシマエナガを探す。\n",
       "- **昼**：温泉旅館での食事や、近隣のカフェでランチ。\n",
       "- **午後**：定山渓の自然を楽しんだ後、札幌に戻る。\n",
       "- **夕方**：札幌市内の人気スイーツ店で休憩。\n",
       "- **夜**：札幌の居酒屋で地元料理を楽しむ。\n",
       "\n",
       "### 3日目：博物館・お土産購入\n",
       "- **午前**：北海道開拓の村を訪問。北海道の歴史を学ぶ。\n",
       "- **昼**：市内でランチ後、ショッピング（狸小路や大丸札幌店でお土産購入）。\n",
       "- **午後**：自由時間。再度好きなスポットを訪問・カフェでリラックス。\n",
       "- **夜**：新千歳空港へ移動、帰路へ。\n",
       "\n",
       "### 予算案\n",
       "- **交通費**：札幌市内移動（バス、地下鉄等）約5,000円。\n",
       "- **宿泊費**：2泊（ビジネスホテル）約30,000円。\n",
       "- **食費**：3日間で約20,000円。\n",
       "- **観光費**：入場料、アクティビティ約15,000円。\n",
       "- **お土産代**：約20,000円。\n",
       "- **合計**：約90,000円（お土産次第で調整可能）。\n",
       "\n",
       "このようなプランであれば、シマエナガ探しも楽しめ、札幌の魅力を満喫できると思います。何か特別に追加したいことや変更点があれば教えてください！"
      ]
     },
     "execution_count": 4,
     "metadata": {},
     "output_type": "execute_result"
    }
   ],
   "execution_count": 4
  },
  {
   "metadata": {},
   "cell_type": "markdown",
   "source": ""
  }
 ],
 "metadata": {
  "kernelspec": {
   "display_name": "Kotlin",
   "language": "kotlin",
   "name": "kotlin"
  },
  "language_info": {
   "name": "kotlin",
   "version": "2.2.20-Beta2",
   "mimetype": "text/x-kotlin",
   "file_extension": ".kt",
   "pygments_lexer": "kotlin",
   "codemirror_mode": "text/x-kotlin",
   "nbconvert_exporter": ""
  }
 },
 "nbformat": 4,
 "nbformat_minor": 0
}
