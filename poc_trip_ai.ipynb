{
 "cells": [
  {
   "cell_type": "code",
   "metadata": {
    "collapsed": true,
    "ExecuteTime": {
     "end_time": "2025-10-04T01:46:12.503410Z",
     "start_time": "2025-10-04T01:46:10.192016Z"
    }
   },
   "source": [
    "%useLatestDescriptors\n",
    "%use koog"
   ],
   "outputs": [],
   "execution_count": 1
  },
  {
   "metadata": {
    "ExecuteTime": {
     "end_time": "2025-10-04T01:46:13.622625Z",
     "start_time": "2025-10-04T01:46:12.510530Z"
    }
   },
   "cell_type": "code",
   "source": [
    "import kotlinx.coroutines.runBlocking\n",
    "\n",
    "val apiKey = System.getenv(\"OPENAI_API_KEY\")\n",
    "val executor = simpleOpenAIExecutor(apiKey)\n",
    "\n",
    "runBlocking {\n",
    "    val res = executor.execute(\n",
    "        prompt = prompt(\"prompt\") {\n",
    "            user(\"hello\")\n",
    "        },\n",
    "        model = OpenAIModels.Reasoning.GPT4oMini,\n",
    "        tools = emptyList()\n",
    "    )\n",
    "    res.last().content\n",
    "}\n"
   ],
   "outputs": [
    {
     "data": {
      "text/plain": [
       "Hello! How can I assist you today?"
      ]
     },
     "execution_count": 2,
     "metadata": {},
     "output_type": "execute_result"
    }
   ],
   "execution_count": 2
  },
  {
   "metadata": {
    "ExecuteTime": {
     "end_time": "2025-10-04T01:46:36.034747Z",
     "start_time": "2025-10-04T01:46:13.632035Z"
    }
   },
   "cell_type": "code",
   "source": [
    "import ai.koog.agents.features.opentelemetry.feature.OpenTelemetry\n",
    "\n",
    "val toolRegistry = ToolRegistry {\n",
    "    tool(AskUser)\n",
    "}\n",
    "\n",
    "runBlocking {\n",
    "    val agent = AIAgent(\n",
    "        executor = executor,\n",
    "        llmModel = OpenAIModels.Reasoning.GPT4oMini,\n",
    "        systemPrompt = \"\"\"\n",
    "        あなたは旅行プランナーです。ユーザーの指示に従って、旅行計画を立ててください。\n",
    "        ただしユーザーの指示が少ないときは__ask_user__ツールを使って、1度はユーザーに情報提供を促してください。\n",
    "        最小限の情報があればそれでよいです。観光スポットなども含めて、あなたが考えて提案してください。\n",
    "        ユーザーに行きたい場所を尋ねず、あなたが提案してください。\n",
    "        最小限の情報とは、旅行先、予算のことです。\n",
    "        あまり細かく聞きすぎず、ある程度分かったところで計画を立ててください\n",
    "        \"\"\".trimIndent(),\n",
    "        toolRegistry = toolRegistry,\n",
    "    )\n",
    "\n",
    "    val res = agent.run(\"2泊3日の札幌旅行の計画を立ててください\")\n",
    "    println(\"---\")\n",
    "    println(res)\n",
    "}"
   ],
   "outputs": [
    {
     "name": "stdout",
     "output_type": "stream",
     "text": [
      "札幌旅行の予算を教えてください。また、具体的にどのようなアクティビティをお好みですか？（例：観光、食事、ショッピングなど）\n",
      "---\n",
      "素晴らしいですね！シマエナガを観察できる札幌旅行のプランを立てます。予算は10万円で、観光や食事を楽しむ内容を含めます。\n",
      "\n",
      "### 旅行プラン：2泊3日 札幌\n",
      "\n",
      "#### 1日目：\n",
      "- **午前**: 札幌到着\n",
      "  - 新千歳空港から札幌市内へ移動（JR利用）\n",
      "- **昼食**: 札幌ラーメン　（おすすめは「山頭火」や「すみれ」）\n",
      "- **午後**: 大通公園散策\n",
      "  - 札幌時計台を訪れる\n",
      "  - 弱電のシマエナガの展示のある円山動物園へ移動\n",
      "    - シマエナガを観察できるエリアもあります。\n",
      "- **夕食**: すすきのでジンギスカン（おすすめは「だるま」）\n",
      "- **宿泊**: 札幌市内のホテル（8,000円〜）\n",
      "\n",
      "#### 2日目：\n",
      "- **午前**: モエレ沼公園散策\n",
      "  - シマエナガの姿を探しながら、自然を楽しむ\n",
      "- **昼食**: モエレ沼公園内または周辺のカフェで軽食\n",
      "- **午後**: 札幌市内観光\n",
      "  - さっぽろ雪まつりミュージアム（季節によっては）\n",
      "  - 札幌市博物館（北海道の歴史を知ることができる）\n",
      "- **夕食**: 札幌駅近くで海鮮丼（「海鮮丼屋」）\n",
      "- **宿泊**: 前日と同様のホテル\n",
      "\n",
      "#### 3日目：\n",
      "- **午前**: 朝食後、さっぽろ羊ヶ丘展望台へ訪問\n",
      "  - シマエナガと共に雄大な羊ヶ丘の自然を楽しむ\n",
      "- **昼食**: 近くのレストランでスープカレー\n",
      "- **午後**: お土産のショッピング（大丸札幌店や狸小路）\n",
      "- **夕方**: 新千歳空港へ移動し、帰路に。\n",
      "\n",
      "### 費用の見積もり：\n",
      "- 交通費（往復・エクスプレス）：約25,000円\n",
      "- 宿泊費（2泊）：約16,000円（8,000円×2）\n",
      "- 食事（3日）：約15,000円（昼・夜の食事代）\n",
      "- アクティビティ費用：約10,000円（入場料やアクティビティ）\n",
      "- お土産：約10,000円\n",
      "\n",
      "合計：約76,000円（残り予算を使って自由に楽しむことも可能です！）\n",
      "\n",
      "このプランに基づいて、札幌で素晴らしい2泊3日の旅行をお楽しみください！追加の情報や調整が必要であれば、お知らせください。\n"
     ]
    }
   ],
   "execution_count": 3
  },
  {
   "metadata": {},
   "cell_type": "markdown",
   "source": ""
  }
 ],
 "metadata": {
  "kernelspec": {
   "display_name": "Kotlin",
   "language": "kotlin",
   "name": "kotlin"
  },
  "language_info": {
   "name": "kotlin",
   "version": "2.2.20-Beta2",
   "mimetype": "text/x-kotlin",
   "file_extension": ".kt",
   "pygments_lexer": "kotlin",
   "codemirror_mode": "text/x-kotlin",
   "nbconvert_exporter": ""
  }
 },
 "nbformat": 4,
 "nbformat_minor": 0
}
