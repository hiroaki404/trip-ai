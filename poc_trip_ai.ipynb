{
 "cells": [
  {
   "cell_type": "code",
   "metadata": {
    "collapsed": true,
    "ExecuteTime": {
     "end_time": "2025-10-03T14:01:53.327560Z",
     "start_time": "2025-10-03T14:01:52.564838Z"
    }
   },
   "source": "%use koog",
   "outputs": [],
   "execution_count": 2
  },
  {
   "metadata": {
    "ExecuteTime": {
     "end_time": "2025-10-03T14:01:56.621309Z",
     "start_time": "2025-10-03T14:01:54.156630Z"
    }
   },
   "cell_type": "code",
   "source": [
    "import kotlinx.coroutines.runBlocking\n",
    "\n",
    "val apiKey = System.getenv(\"OPENAI_API_KEY\")\n",
    "val executor = simpleOpenAIExecutor(apiKey)\n",
    "\n",
    "runBlocking {\n",
    "    val res = executor.execute(\n",
    "        prompt = prompt(\"prompt\") {\n",
    "            user(\"hello\")\n",
    "        },\n",
    "        model = OpenAIModels.Reasoning.GPT4oMini,\n",
    "        tools = emptyList()\n",
    "    )\n",
    "    res.last().content\n",
    "}\n"
   ],
   "outputs": [
    {
     "data": {
      "text/plain": [
       "Hello! How can I assist you today?"
      ]
     },
     "execution_count": 3,
     "metadata": {},
     "output_type": "execute_result"
    }
   ],
   "execution_count": 3
  }
 ],
 "metadata": {
  "kernelspec": {
   "display_name": "Kotlin",
   "language": "kotlin",
   "name": "kotlin"
  },
  "language_info": {
   "name": "kotlin",
   "version": "2.2.20-Beta2",
   "mimetype": "text/x-kotlin",
   "file_extension": ".kt",
   "pygments_lexer": "kotlin",
   "codemirror_mode": "text/x-kotlin",
   "nbconvert_exporter": ""
  }
 },
 "nbformat": 4,
 "nbformat_minor": 0
}
