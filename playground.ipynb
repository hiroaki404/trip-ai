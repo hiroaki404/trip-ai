{
 "cells": [
  {
   "cell_type": "code",
   "metadata": {
    "collapsed": true,
    "ExecuteTime": {
     "end_time": "2025-10-23T15:20:52.598739Z",
     "start_time": "2025-10-23T15:20:48.662392Z"
    }
   },
   "source": [
    "%useLatestDescriptors\n",
    "%use koog(v = 0.5.1)\n",
    "import kotlinx.coroutines.runBlocking\n",
    "\n",
    "\n",
    "\n",
    "\n",
    "\n",
    "\n",
    "\n",
    "\n",
    "\n",
    "\n",
    "\n",
    "\n",
    "\n",
    "\n",
    "\n",
    "\n",
    "\n",
    "\n",
    "\n",
    "\n",
    "\n",
    "\n",
    "\n",
    "\n",
    "\n",
    "\n",
    "\n",
    "\n",
    "\n",
    "\n",
    "\n",
    "\n",
    "\n",
    "\n",
    "\n",
    "\n",
    "\n",
    "\n",
    "\n",
    "\n",
    "\n",
    "\n",
    "\n"
   ],
   "outputs": [],
   "execution_count": 1
  },
  {
   "metadata": {
    "ExecuteTime": {
     "end_time": "2025-10-23T15:21:08.398076Z",
     "start_time": "2025-10-23T15:21:08.256014Z"
    }
   },
   "cell_type": "code",
   "source": [
    "val apiKey = System.getenv(\"OPEN_ROUTER_API_KEY\")\n",
    "val executor = simpleOpenRouterExecutor(apiKey)"
   ],
   "outputs": [],
   "execution_count": 2
  },
  {
   "metadata": {
    "ExecuteTime": {
     "end_time": "2025-10-23T15:22:02.686649Z",
     "start_time": "2025-10-23T15:22:02.588329Z"
    }
   },
   "cell_type": "code",
   "source": [
    "val agent = AIAgent(\n",
    "    promptExecutor = executor,\n",
    "    llmModel = OpenRouterModels.GPT_OSS_120b,\n",
    "    systemPrompt = \"You are a travel agent. You need to provide the best route for the user.\"\n",
    ")"
   ],
   "outputs": [],
   "execution_count": 3
  },
  {
   "metadata": {
    "ExecuteTime": {
     "end_time": "2025-10-23T15:22:54.646417Z",
     "start_time": "2025-10-23T15:22:47.933276Z"
    }
   },
   "cell_type": "code",
   "source": [
    "runBlocking {\n",
    "    agent.run(\"What is Ktlin? Tell me one sentence about it.\")\n",
    "}"
   ],
   "outputs": [
    {
     "data": {
      "text/plain": [
       "Kotlin is a modern, statically‑typed programming language that runs on the JVM (and can also compile to JavaScript and native code).  \n",
       "\n",
       "If you need help planning a trip or finding the best route somewhere, just let me know the details and I’ll gladly assist!"
      ]
     },
     "execution_count": 4,
     "metadata": {},
     "output_type": "execute_result"
    }
   ],
   "execution_count": 4
  },
  {
   "metadata": {
    "ExecuteTime": {
     "end_time": "2025-10-23T15:53:32.055996Z",
     "start_time": "2025-10-23T15:53:28.707341Z"
    }
   },
   "cell_type": "code",
   "source": [
    "import ai.koog.agents.core.tools.annotations.Tool\n",
    "import kotlinx.serialization.Serializable\n",
    "\n",
    "@LLMDescription(\"Tools for getting weather information\")\n",
    "class MyFirstToolSet : ToolSet {\n",
    "    @Tool\n",
    "    @LLMDescription(\"Get the current weather for a location\")\n",
    "    fun getWeather(\n",
    "        @LLMDescription(\"The city and state/country\")\n",
    "        location: String\n",
    "    ): String {\n",
    "        // In a real implementation, you would call a weather API\n",
    "        return \"The weather in $location is sunny and 72°F\"\n",
    "    }\n",
    "}\n",
    "\n",
    "@Serializable\n",
    "@LLMDescription(\"response\")\n",
    "class Response(\n",
    "    @Serializable\n",
    "    @property:LLMDescription(\"summary\")\n",
    "    val summary: String,\n",
    "    @Serializable\n",
    "    @property:LLMDescription(\"details\")\n",
    "    val details: String,\n",
    ")\n",
    "\n",
    "val customStrategy = strategy<String, String>(\"custom-strategy\") {\n",
    "    val subGraphWithTask by subgraphWithTask<String, Response>(tools = MyFirstToolSet().asTools()) { input ->\n",
    "        input\n",
    "    }\n",
    "\n",
    "    edge(nodeStart forwardTo subGraphWithTask)\n",
    "    edge(\n",
    "        subGraphWithTask forwardTo nodeFinish\n",
    "                transformed { \"summary: ${it.summary}\\ndetails: ${it.details}\" }\n",
    "    )\n",
    "}\n",
    "\n",
    "val agentWithCustomStrategy = AIAgent(\n",
    "    promptExecutor = executor,\n",
    "    llmModel = OpenRouterModels.Gemini2_5Flash,\n",
    "    systemPrompt = \"You are helpful agent. You need to call tool, when needed.\",\n",
    "    strategy = customStrategy,\n",
    "    toolRegistry = ToolRegistry {\n",
    "        tools(MyFirstToolSet())\n",
    "    }\n",
    ")\n",
    "\n",
    "runBlocking {\n",
    "    agentWithCustomStrategy.run(\"Tell me the weather in Seattle.\")\n",
    "}"
   ],
   "outputs": [
    {
     "data": {
      "text/plain": [
       "summary: Weather in Seattle\n",
       "details: The weather in Seattle, WA is sunny and 72°F"
      ]
     },
     "execution_count": 18,
     "metadata": {},
     "output_type": "execute_result"
    }
   ],
   "execution_count": 18
  }
 ],
 "metadata": {
  "kernelspec": {
   "display_name": "Kotlin",
   "language": "kotlin",
   "name": "kotlin"
  },
  "language_info": {
   "name": "kotlin",
   "version": "2.2.20-Beta2",
   "mimetype": "text/x-kotlin",
   "file_extension": ".kt",
   "pygments_lexer": "kotlin",
   "codemirror_mode": "text/x-kotlin",
   "nbconvert_exporter": ""
  }
 },
 "nbformat": 4,
 "nbformat_minor": 0
}
