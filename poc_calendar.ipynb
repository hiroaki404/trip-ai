{
 "cells": [
  {
   "cell_type": "markdown",
   "metadata": {},
   "source": "# Google Calendar API テスト\n\nこのノートブックでGoogle Calendar APIを使ってイベントを作成します。\n\n## 事前準備\n1. Google Cloud Consoleで OAuth 2.0 認証情報を作成\n2. `credentials.json`をダウンロード\n3. `composeApp/src/jvmMain/resources/credentials.json` に配置\n\n**注意**: JVMツールと同じ`credentials.json`とトークンを共有します。"
  },
  {
   "cell_type": "code",
   "metadata": {
    "ExecuteTime": {
     "end_time": "2025-10-18T17:06:11.320934Z",
     "start_time": "2025-10-18T17:06:09.404501Z"
    }
   },
   "source": [
    "// 依存関係の追加\n",
    "@file:DependsOn(\"com.google.api-client:google-api-client:2.0.0\")\n",
    "@file:DependsOn(\"com.google.oauth-client:google-oauth-client-jetty:1.39.0\")\n",
    "@file:DependsOn(\"com.google.apis:google-api-services-calendar:v3-rev20250404-2.0.0\")\n",
    "@file:DependsOn(\"org.jetbrains.kotlinx:kotlinx-datetime:0.6.2\")\n",
    "\n",
    "\n",
    "\n",
    "\n",
    "\n",
    "\n",
    "\n"
   ],
   "outputs": [],
   "execution_count": 1
  },
  {
   "cell_type": "code",
   "metadata": {
    "ExecuteTime": {
     "end_time": "2025-10-18T17:06:11.364479Z",
     "start_time": "2025-10-18T17:06:11.331404Z"
    }
   },
   "source": [
    "import com.google.api.client.auth.oauth2.Credential\n",
    "import com.google.api.client.extensions.java6.auth.oauth2.AuthorizationCodeInstalledApp\n",
    "import com.google.api.client.extensions.jetty.auth.oauth2.LocalServerReceiver\n",
    "import com.google.api.client.googleapis.auth.oauth2.GoogleAuthorizationCodeFlow\n",
    "import com.google.api.client.googleapis.auth.oauth2.GoogleClientSecrets\n",
    "import com.google.api.client.googleapis.javanet.GoogleNetHttpTransport\n",
    "import com.google.api.client.json.gson.GsonFactory\n",
    "import com.google.api.client.util.store.FileDataStoreFactory\n",
    "import com.google.api.services.calendar.Calendar\n",
    "import com.google.api.services.calendar.CalendarScopes\n",
    "import com.google.api.services.calendar.model.Event\n",
    "import com.google.api.services.calendar.model.EventDateTime\n",
    "import java.io.File\n",
    "import java.io.FileReader\n",
    "import kotlinx.datetime.*\n",
    "\n",
    "\n",
    "\n",
    "\n",
    "\n",
    "\n",
    "\n"
   ],
   "outputs": [],
   "execution_count": 2
  },
  {
   "cell_type": "code",
   "metadata": {
    "ExecuteTime": {
     "end_time": "2025-10-18T17:06:11.549759Z",
     "start_time": "2025-10-18T17:06:11.368302Z"
    }
   },
   "source": "// 設定\nval applicationName = \"Trip AI Calendar Test\"\nval jsonFactory = GsonFactory.getDefaultInstance()\n// JVMツールと同じトークンディレクトリを使用\nval tokensDirectoryPath = \"${System.getProperty(\"user.home\")}/.trip-ai/tokens\"\nval scopes = listOf(CalendarScopes.CALENDAR)\n// JVMツールと同じcredentials.jsonを参照\nval credentialsFilePath = \"composeApp/src/jvmMain/resources/credentials.json\"",
   "outputs": [],
   "execution_count": 3
  },
  {
   "cell_type": "code",
   "metadata": {
    "ExecuteTime": {
     "end_time": "2025-10-18T17:06:11.798341Z",
     "start_time": "2025-10-18T17:06:11.554386Z"
    }
   },
   "source": [
    "/**\n",
    " * OAuth 2.0認証を実行してCredentialオブジェクトを取得\n",
    " */\n",
    "fun getCredentials(): Credential {\n",
    "    // credentials.jsonを読み込み\n",
    "    val credentialsFile = File(credentialsFilePath)\n",
    "    if (!credentialsFile.exists()) {\n",
    "        error(\n",
    "            \"\"\"\n",
    "            Error: credentials.json not found!\n",
    "            \n",
    "            セットアップ手順:\n",
    "            1. Google Cloud Console (console.cloud.google.com) にアクセス\n",
    "            2. 新しいプロジェクトを作成または既存のものを選択\n",
    "            3. Google Calendar API を有効化\n",
    "            4. OAuth 2.0 Client ID credentials を作成（デスクトップアプリケーション）\n",
    "            5. credentials.json をダウンロード\n",
    "            6. このノートブックと同じディレクトリに配置\n",
    "        \"\"\".trimIndent()\n",
    "        )\n",
    "    }\n",
    "\n",
    "    val clientSecrets = GoogleClientSecrets.load(jsonFactory, FileReader(credentialsFile))\n",
    "\n",
    "    // 認証フローを構築\n",
    "    val httpTransport = GoogleNetHttpTransport.newTrustedTransport()\n",
    "    val flow = GoogleAuthorizationCodeFlow.Builder(\n",
    "        httpTransport, jsonFactory, clientSecrets, scopes\n",
    "    )\n",
    "        .setDataStoreFactory(FileDataStoreFactory(File(tokensDirectoryPath)))\n",
    "        .setAccessType(\"offline\")\n",
    "        .build()\n",
    "\n",
    "    // ローカルサーバーでコールバックを受信（ポート8888）\n",
    "    val receiver = LocalServerReceiver.Builder().setPort(8888).build()\n",
    "\n",
    "    // ブラウザを開いて認証\n",
    "    return AuthorizationCodeInstalledApp(flow, receiver).authorize(\"user\")\n",
    "}\n",
    "\n",
    "println(\"認証関数を定義しました\")"
   ],
   "outputs": [
    {
     "name": "stdout",
     "output_type": "stream",
     "text": [
      "認証関数を定義しました\n"
     ]
    }
   ],
   "execution_count": 4
  },
  {
   "cell_type": "code",
   "metadata": {
    "ExecuteTime": {
     "end_time": "2025-10-18T17:06:11.962099Z",
     "start_time": "2025-10-18T17:06:11.815627Z"
    }
   },
   "source": [
    "/**\n",
    " * Calendar APIクライアントを取得\n",
    " */\n",
    "fun getCalendarService(): Calendar {\n",
    "    val httpTransport = GoogleNetHttpTransport.newTrustedTransport()\n",
    "    val credential = getCredentials()\n",
    "    return Calendar.Builder(httpTransport, jsonFactory, credential)\n",
    "        .setApplicationName(applicationName)\n",
    "        .build()\n",
    "}\n",
    "\n",
    "println(\"Calendarサービス取得関数を定義しました\")"
   ],
   "outputs": [
    {
     "name": "stdout",
     "output_type": "stream",
     "text": [
      "Calendarサービス取得関数を定義しました\n"
     ]
    }
   ],
   "execution_count": 5
  },
  {
   "cell_type": "code",
   "metadata": {
    "ExecuteTime": {
     "end_time": "2025-10-18T17:07:38.792409Z",
     "start_time": "2025-10-18T17:07:38.720427Z"
    }
   },
   "source": [
    "/**\n",
    " * カレンダーイベントを作成\n",
    " */\n",
    "fun createEvent(eventName: String, dateTime: LocalDateTime): String {\n",
    "    return try {\n",
    "        val service = getCalendarService()\n",
    "\n",
    "        // Kotlinの日時をGoogleの形式に変換\n",
    "        val instant = dateTime.toInstant(TimeZone.currentSystemDefault())\n",
    "        val eventDateTime = EventDateTime()\n",
    "            .setDateTime(com.google.api.client.util.DateTime(instant.toEpochMilliseconds()))\n",
    "            .setTimeZone(TimeZone.currentSystemDefault().id)\n",
    "\n",
    "        // イベントオブジェクトを作成\n",
    "        val event = Event()\n",
    "            .setSummary(eventName)\n",
    "            .setStart(eventDateTime)\n",
    "            .setEnd(eventDateTime) // 同じ時刻で瞬間イベント\n",
    "\n",
    "        // プライマリカレンダーにイベント挿入\n",
    "        val calendarId = \"primary\"\n",
    "        service.events().insert(calendarId, event).execute()\n",
    "\n",
    "        \"✅ カレンダーイベント作成成功!\"\n",
    "    } catch (e: Exception) {\n",
    "        \"❌ エラー: ${e.message}\"\n",
    "    }\n",
    "}\n",
    "\n",
    "println(\"イベント作成関数を定義しました\")"
   ],
   "outputs": [
    {
     "name": "stdout",
     "output_type": "stream",
     "text": [
      "イベント作成関数を定義しました\n"
     ]
    }
   ],
   "execution_count": 10
  },
  {
   "cell_type": "markdown",
   "metadata": {},
   "source": [
    "## テスト実行\n",
    "\n",
    "以下のセルでイベントを作成します。初回実行時はブラウザが開き、Googleアカウントでの認証が必要です。"
   ]
  },
  {
   "cell_type": "code",
   "metadata": {
    "ExecuteTime": {
     "end_time": "2025-10-18T17:19:26.062683Z",
     "start_time": "2025-10-18T17:19:25.437357Z"
    }
   },
   "source": [
    "// テスト: 明日の午後2時にイベントを作成\n",
    "val tomorrow = Clock.System.now()\n",
    "    .plus(1, DateTimeUnit.DAY, TimeZone.currentSystemDefault())\n",
    "    .toLocalDateTime(TimeZone.currentSystemDefault())\n",
    "    .let { LocalDateTime(it.year, it.monthNumber, it.dayOfMonth, 14, 0) } // 14:00に設定\n",
    "\n",
    "val result = createEvent(\"Trip AI テストイベント\", tomorrow)\n",
    "println(result)"
   ],
   "outputs": [
    {
     "name": "stdout",
     "output_type": "stream",
     "text": [
      "✅ カレンダーイベント作成成功!\n"
     ]
    }
   ],
   "execution_count": 13
  },
  {
   "cell_type": "code",
   "metadata": {
    "ExecuteTime": {
     "end_time": "2025-10-18T17:08:03.499750Z",
     "start_time": "2025-10-18T17:08:02.995310Z"
    }
   },
   "source": [
    "// カスタムイベントの作成例\n",
    "// 日付と時刻を指定してイベントを作成できます\n",
    "\n",
    "val customDateTime = LocalDateTime(\n",
    "    year = 2025,\n",
    "    monthNumber = 10,\n",
    "    dayOfMonth = 20,\n",
    "    hour = 15,\n",
    "    minute = 30\n",
    ")\n",
    "\n",
    "val customResult = createEvent(\"札幌旅行: シマエナガ観察ツアー\", customDateTime)\n",
    "println(customResult)"
   ],
   "outputs": [
    {
     "name": "stdout",
     "output_type": "stream",
     "text": [
      "✅ カレンダーイベント作成成功!\n"
     ]
    }
   ],
   "execution_count": 12
  },
  {
   "cell_type": "markdown",
   "metadata": {},
   "source": "## トラブルシューティング\n\n### credentials.json が見つからない場合\n1. Google Cloud Console でプロジェクトを作成\n2. Google Calendar API を有効化\n3. OAuth 2.0 認証情報を作成（アプリケーションの種類: デスクトップアプリ）\n4. credentials.json をダウンロード\n5. `composeApp/src/jvmMain/resources/credentials.json` に配置\n\n### 認証エラーの場合\n- トークンをリセット: `~/.trip-ai/tokens/` ディレクトリを削除して再実行\n- JVMツールと同じトークンを共有しているため、どちらか一方で認証すればOK\n\n### ポート8888が使用中の場合\n- `LocalServerReceiver.Builder().setPort(8888)` の8888を別のポート番号に変更"
  }
 ],
 "metadata": {
  "kernelspec": {
   "display_name": "Kotlin",
   "language": "kotlin",
   "name": "kotlin"
  },
  "language_info": {
   "codemirror_mode": "text/x-kotlin",
   "file_extension": ".kt",
   "mimetype": "text/x-kotlin",
   "name": "kotlin",
   "nbconvert_exporter": "",
   "pygments_lexer": "kotlin",
   "version": "1.9.23"
  }
 },
 "nbformat": 4,
 "nbformat_minor": 4
}
